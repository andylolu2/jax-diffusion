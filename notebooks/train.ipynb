{
 "cells": [
  {
   "cell_type": "code",
   "execution_count": null,
   "metadata": {},
   "outputs": [],
   "source": [
    "!rm -rf jax-diffusion\n",
    "!git clone https://github.com/andylolu2/jax-diffusion"
   ]
  },
  {
   "cell_type": "code",
   "execution_count": 4,
   "metadata": {},
   "outputs": [
    {
     "name": "stdout",
     "output_type": "stream",
     "text": [
      "/home/andylo/Projects\n"
     ]
    }
   ],
   "source": [
    "%cd .."
   ]
  },
  {
   "cell_type": "code",
   "execution_count": null,
   "metadata": {},
   "outputs": [],
   "source": [
    "%env XLA_PYTHON_CLIENT_MEM_FRACTION=0.8\n",
    "!git pull\n",
    "!wandb login"
   ]
  },
  {
   "cell_type": "code",
   "execution_count": null,
   "metadata": {},
   "outputs": [],
   "source": [
    "%pip install -r requirements.txt"
   ]
  },
  {
   "cell_type": "code",
   "execution_count": 3,
   "metadata": {},
   "outputs": [],
   "source": [
    "from pathlib import Path\n",
    "from ml_collections import ConfigDict, FrozenConfigDict\n",
    "\n",
    "def get_config():\n",
    "    config = ConfigDict()\n",
    "\n",
    "    config.project_name = \"jax-diffusion\"\n",
    "\n",
    "    # config.restore = str(Path.cwd() / \"checkpoints/deft-voice-105\")\n",
    "    config.restore = None\n",
    "\n",
    "    seed = 42\n",
    "    d_model = 8\n",
    "    grad_acc = 1\n",
    "    steps = 30000\n",
    "\n",
    "    config.seed = seed\n",
    "    config.steps = steps * grad_acc\n",
    "    config.ckpt_dir = str(Path.cwd() / \"checkpoints\")\n",
    "    config.log_interval = 1\n",
    "    config.ckpt_interval = 60\n",
    "    config.eval_interval = 180\n",
    "\n",
    "    config.experiment_kwargs = ConfigDict(\n",
    "        dict(\n",
    "            config=dict(\n",
    "                seed=seed,\n",
    "                dataset_kwargs=dict(\n",
    "                    name=\"fashion_mnist\",\n",
    "                    resize_dim=32,\n",
    "                    data_dir=str(Path.home() / \"tensorflow_datasets\"),\n",
    "                    prefetch=\"auto\",\n",
    "                    seed=seed,\n",
    "                ),\n",
    "                train=dict(\n",
    "                    dataset_kwargs=dict(\n",
    "                        batch_size=64,\n",
    "                        subset=\"100%\",\n",
    "                        buffer_size=1000,\n",
    "                        shuffle=True,\n",
    "                        repeat=True,\n",
    "                    ),\n",
    "                    ema_step_size=1 - 0.9995,\n",
    "                    optimizer=dict(\n",
    "                        optimizer_type=\"adam\",\n",
    "                        kwargs=dict(\n",
    "                            max_grad_norm=1.0,\n",
    "                            grac_acc_steps=grad_acc,\n",
    "                        ),\n",
    "                        lr_schedule=dict(\n",
    "                            # schedule_type=\"constant\",\n",
    "                            # kwargs=dict(\n",
    "                            #     value=3e-6,\n",
    "                            # ),\n",
    "                            schedule_type=\"cosine\",\n",
    "                            kwargs=dict(\n",
    "                                init_value=0,\n",
    "                                peak_value=4e-4,\n",
    "                                warmup_steps=500,\n",
    "                                decay_steps=steps * grad_acc,\n",
    "                                decay_factor=10,\n",
    "                            ),\n",
    "                        ),\n",
    "                    ),\n",
    "                ),\n",
    "                eval=dict(\n",
    "                    dataset_kwargs=dict(\n",
    "                        batch_size=64,\n",
    "                        subset=\"20%\",\n",
    "                    ),\n",
    "                    gen_samples=4,\n",
    "                ),\n",
    "                diffusion=dict(\n",
    "                    T=1000,\n",
    "                    beta_1=1e-4,\n",
    "                    beta_T=0.02,\n",
    "                ),\n",
    "                model=dict(\n",
    "                    unet_kwargs=dict(\n",
    "                        dim_init=d_model,\n",
    "                        kernel_size_init=3,\n",
    "                        dim_mults=(1, 2, 2, 4),\n",
    "                        attention_resolutions=(16,),\n",
    "                        attention_num_heads=4,\n",
    "                        num_res_blocks=2,\n",
    "                        sinusoidal_embed_dim=d_model,\n",
    "                        time_embed_dim=4 * d_model,\n",
    "                        kernel_size=3,\n",
    "                        num_groups=4,\n",
    "                        dropout=0.1,\n",
    "                    ),\n",
    "                ),\n",
    "            )\n",
    "        )\n",
    "    )\n",
    "\n",
    "    config.lock()\n",
    "\n",
    "    return FrozenConfigDict(config)"
   ]
  },
  {
   "cell_type": "code",
   "execution_count": null,
   "metadata": {},
   "outputs": [],
   "source": [
    "from jax_diffusion.train.main import main\n",
    "\n",
    "config = get_config()\n",
    "main(config)"
   ]
  }
 ],
 "metadata": {
  "kernelspec": {
   "display_name": "Python 3.7.13 64-bit ('flax-3.7')",
   "language": "python",
   "name": "python3"
  },
  "language_info": {
   "codemirror_mode": {
    "name": "ipython",
    "version": 3
   },
   "file_extension": ".py",
   "mimetype": "text/x-python",
   "name": "python",
   "nbconvert_exporter": "python",
   "pygments_lexer": "ipython3",
   "version": "3.7.13"
  },
  "orig_nbformat": 4,
  "vscode": {
   "interpreter": {
    "hash": "7d1c19da8b2541e954d6b1ce081ba29e2bd956ef318348a2a30aa798906c81c3"
   }
  }
 },
 "nbformat": 4,
 "nbformat_minor": 2
}

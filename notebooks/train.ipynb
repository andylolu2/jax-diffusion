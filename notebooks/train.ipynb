{
 "cells": [
  {
   "cell_type": "code",
   "execution_count": null,
   "metadata": {},
   "outputs": [],
   "source": [
    "# For Colab, update cuda version to prevent memory leak\n",
    "# https://github.com/google/jax/issues/10949\n",
    "!sudo apt-get -qq install libcudnn8=8.1.1.33-1+cuda11.2 cuda-11-2 -y --allow-change-held-packages"
   ]
  },
  {
   "cell_type": "code",
   "execution_count": null,
   "metadata": {},
   "outputs": [],
   "source": [
    "!rm -rf jax-diffusion\n",
    "!git clone https://github.com/andylolu2/jax-diffusion\n",
    "%cd jax-diffusion\n",
    "%pip install -q -r requirements.txt"
   ]
  },
  {
   "cell_type": "code",
   "execution_count": null,
   "metadata": {},
   "outputs": [],
   "source": [
    "!XLA_PYTHON_CLIENT_MEM_FRACTION=0.9 python -m jax_diffusion.train --config jax_diffusion/configs/mnist.py --dry_run"
   ]
  },
  {
   "cell_type": "code",
   "execution_count": null,
   "metadata": {},
   "outputs": [],
   "source": [
    "# for celeb_a\n",
    "!scripts/build_celeb_a.sh"
   ]
  },
  {
   "cell_type": "code",
   "execution_count": null,
   "metadata": {},
   "outputs": [],
   "source": [
    "# sample\n",
    "import jax\n",
    "from ml_collections import FrozenConfigDict\n",
    "\n",
    "from jax_diffusion.configs.mnist import get_config as mnist_config\n",
    "from jax_diffusion.train.trainer import Trainer\n",
    "\n",
    "config = mnist_config()\n",
    "# config.restore = \"\"\n",
    "config = FrozenConfigDict(config)  # needed to be hashable\n",
    "\n",
    "trainer = Trainer(jax.random.PRNGKey(0), **config.experiment_kwargs)\n",
    "if config.restore is not None:\n",
    "    trainer.restore_checkpoint(config.restore)"
   ]
  },
  {
   "cell_type": "code",
   "execution_count": null,
   "metadata": {},
   "outputs": [],
   "source": [
    "import matplotlib.pyplot as plt\n",
    "\n",
    "from jax_diffusion.utils.image import image_grid\n",
    "\n",
    "img = trainer.sample(4, jax.random.PRNGKey(1))\n",
    "img = image_grid(img)\n",
    "plt.imshow()"
   ]
  }
 ],
 "metadata": {
  "kernelspec": {
   "display_name": "Python 3.8.10 ('jax-diffusion')",
   "language": "python",
   "name": "python3"
  },
  "language_info": {
   "codemirror_mode": {
    "name": "ipython",
    "version": 3
   },
   "file_extension": ".py",
   "mimetype": "text/x-python",
   "name": "python",
   "nbconvert_exporter": "python",
   "pygments_lexer": "ipython3",
   "version": "3.8.10"
  },
  "orig_nbformat": 4,
  "vscode": {
   "interpreter": {
    "hash": "267bbdc6cee9ca60b6b400ad6755bfaa838d65b7c9292f3db488e108b7c9bd63"
   }
  }
 },
 "nbformat": 4,
 "nbformat_minor": 2
}

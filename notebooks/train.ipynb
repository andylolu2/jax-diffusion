{
 "cells": [
  {
   "cell_type": "code",
   "execution_count": null,
   "metadata": {},
   "outputs": [],
   "source": [
    "# For Colab, update cuda version to prevent memory leak\n",
    "# https://github.com/google/jax/issues/10949\n",
    "!sudo apt-get -qq install libcudnn8=8.1.1.33-1+cuda11.2 cuda-11-2 -y --allow-change-held-packages"
   ]
  },
  {
   "cell_type": "code",
   "execution_count": null,
   "metadata": {},
   "outputs": [],
   "source": [
    "!rm -rf jax-diffusion\n",
    "!git clone https://github.com/andylolu2/jax-diffusion\n",
    "%cd jax-diffusion\n",
    "%pip install -q -r requirements.txt"
   ]
  },
  {
   "cell_type": "code",
   "execution_count": null,
   "metadata": {},
   "outputs": [],
   "source": [
    "!gcloud init\n",
    "!gcloud auth application-default login"
   ]
  },
  {
   "cell_type": "code",
   "execution_count": null,
   "metadata": {
    "vscode": {
     "languageId": "bat"
    }
   },
   "outputs": [],
   "source": [
    "%%bash\n",
    "XLA_PYTHON_CLIENT_MEM_FRACTION=0.9 python -m jax_diffusion.train --config jax_diffusion/configs/mnist.py --config.dry_run"
   ]
  },
  {
   "cell_type": "code",
   "execution_count": null,
   "metadata": {},
   "outputs": [],
   "source": [
    "# for celeb_a\n",
    "!scripts/build_celeb_a.sh"
   ]
  },
  {
   "cell_type": "code",
   "execution_count": 3,
   "metadata": {},
   "outputs": [],
   "source": [
    "# sample\n",
    "import jax\n",
    "from ml_collections import FrozenConfigDict\n",
    "\n",
    "from jax_diffusion.configs.mnist import get_config as mnist_config\n",
    "from jax_diffusion.train.trainer import Trainer\n",
    "\n",
    "config = mnist_config()\n",
    "config.restore = \"\"\n",
    "config = FrozenConfigDict(config)  # needed to be hashable\n",
    "\n",
    "trainer = Trainer(jax.random.PRNGKey(0), **config.experiment_kwargs)\n",
    "trainer.restore_checkpoint(config.restore)"
   ]
  },
  {
   "cell_type": "code",
   "execution_count": 3,
   "metadata": {},
   "outputs": [],
   "source": [
    "import matplotlib.pyplot as plt\n",
    "from PIL import Image\n",
    "\n",
    "from jax_diffusion.utils.image import image_grid\n",
    "\n",
    "img = trainer.sample(25, 500, jax.random.PRNGKey(2))\n",
    "im = image_grid(img)[:, :, 0]\n",
    "im = Image.fromarray(im)\n",
    "im\n",
    "# im.save(\"\", dpi=(144, 144))"
   ]
  },
  {
   "cell_type": "code",
   "execution_count": 12,
   "metadata": {},
   "outputs": [],
   "source": [
    "loader = iter(trainer._build_eval_input())\n",
    "samples = next(loader)[\"image\"][:25]\n",
    "\n",
    "im = image_grid(samples)[:, :, 0]\n",
    "im = Image.fromarray(im)\n",
    "im\n",
    "# im.save(\"\", dpi=(144, 144))"
   ]
  }
 ],
 "metadata": {
  "kernelspec": {
   "display_name": "Python 3.7.13 64-bit ('flax-3.7')",
   "language": "python",
   "name": "python3"
  },
  "language_info": {
   "codemirror_mode": {
    "name": "ipython",
    "version": 3
   },
   "file_extension": ".py",
   "mimetype": "text/x-python",
   "name": "python",
   "nbconvert_exporter": "python",
   "pygments_lexer": "ipython3",
   "version": "3.7.13"
  },
  "orig_nbformat": 4,
  "vscode": {
   "interpreter": {
    "hash": "7d1c19da8b2541e954d6b1ce081ba29e2bd956ef318348a2a30aa798906c81c3"
   }
  }
 },
 "nbformat": 4,
 "nbformat_minor": 2
}

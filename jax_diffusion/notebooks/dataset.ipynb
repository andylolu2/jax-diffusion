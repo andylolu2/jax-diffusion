{
 "cells": [
  {
   "cell_type": "code",
   "execution_count": null,
   "metadata": {},
   "outputs": [],
   "source": [
    "%load_ext autoreload\n",
    "%autoreload 2"
   ]
  },
  {
   "cell_type": "code",
   "execution_count": null,
   "metadata": {},
   "outputs": [],
   "source": [
    "import sys\n",
    "\n",
    "sys.path.insert(0, \"../../\")"
   ]
  },
  {
   "cell_type": "code",
   "execution_count": null,
   "metadata": {},
   "outputs": [],
   "source": [
    "import matplotlib.pyplot as plt\n",
    "import numpy as np\n",
    "\n",
    "from jax_diffusion.train import dataset\n",
    "from jax_diffusion.config import get_config"
   ]
  },
  {
   "cell_type": "code",
   "execution_count": null,
   "metadata": {},
   "outputs": [],
   "source": [
    "config = get_config().experiment_kwargs.config\n",
    "\n",
    "ds = dataset.load(\n",
    "    \"train\", \n",
    "    is_training=True, \n",
    "    batch_size=32, \n",
    "    resize_dim=28, \n",
    "    seed=0,\n",
    "    data_dir=config.data_dir,\n",
    "    diffusion_config=config.diffusion\n",
    ")"
   ]
  },
  {
   "cell_type": "code",
   "execution_count": null,
   "metadata": {},
   "outputs": [],
   "source": [
    "sample = next(ds)\n",
    "\n",
    "t = sample[\"t\"][0]\n",
    "x_t = sample[\"x_t\"][0]\n",
    "eps = sample[\"eps\"][0]\n",
    "label = sample[\"label\"][0]\n",
    "\n",
    "print(t)\n",
    "print(label)\n",
    "plt.imshow(np.concatenate([x_t, eps], axis=1))"
   ]
  }
 ],
 "metadata": {
  "kernelspec": {
   "display_name": "Python 3.9.12 64-bit ('flax')",
   "language": "python",
   "name": "python3"
  },
  "language_info": {
   "codemirror_mode": {
    "name": "ipython",
    "version": 3
   },
   "file_extension": ".py",
   "mimetype": "text/x-python",
   "name": "python",
   "nbconvert_exporter": "python",
   "pygments_lexer": "ipython3",
   "version": "3.9.12"
  },
  "orig_nbformat": 4,
  "vscode": {
   "interpreter": {
    "hash": "5b87313f742a69090714eb036ac2acb41caadc70cc9cff46de134f73825872fe"
   }
  }
 },
 "nbformat": 4,
 "nbformat_minor": 2
}

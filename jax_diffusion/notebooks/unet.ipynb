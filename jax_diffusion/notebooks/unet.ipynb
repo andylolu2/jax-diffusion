{
 "cells": [
  {
   "cell_type": "code",
   "execution_count": null,
   "metadata": {},
   "outputs": [],
   "source": [
    "%load_ext autoreload\n",
    "%autoreload 2"
   ]
  },
  {
   "cell_type": "code",
   "execution_count": null,
   "metadata": {},
   "outputs": [],
   "source": [
    "import sys\n",
    "\n",
    "sys.path.insert(0, \"../../\")"
   ]
  },
  {
   "cell_type": "code",
   "execution_count": null,
   "metadata": {},
   "outputs": [],
   "source": [
    "from jax import random\n",
    "import jax.numpy as jnp\n",
    "\n",
    "from jax_diffusion.model import UNet\n",
    "from jax_diffusion.config import get_config"
   ]
  },
  {
   "cell_type": "code",
   "execution_count": null,
   "metadata": {},
   "outputs": [],
   "source": [
    "config = get_config().experiment_kwargs.config.model.unet_kwargs\n",
    "\n",
    "model = UNet(**config)\n",
    "\n",
    "xs = jnp.ones((64,32,32,1), dtype=jnp.float32)\n",
    "ts = jnp.ones((64,1), dtype=jnp.int32)\n",
    "params = model.init(random.PRNGKey(0), xs, ts)"
   ]
  },
  {
   "cell_type": "code",
   "execution_count": null,
   "metadata": {},
   "outputs": [],
   "source": [
    "import jax\n",
    "\n",
    "count = sum(x.size for x in jax.tree_leaves(params)) / 1000000"
   ]
  }
 ],
 "metadata": {
  "kernelspec": {
   "display_name": "Python 3.9.12 64-bit ('flax')",
   "language": "python",
   "name": "python3"
  },
  "language_info": {
   "codemirror_mode": {
    "name": "ipython",
    "version": 3
   },
   "file_extension": ".py",
   "mimetype": "text/x-python",
   "name": "python",
   "nbconvert_exporter": "python",
   "pygments_lexer": "ipython3",
   "version": "3.9.12"
  },
  "orig_nbformat": 4,
  "vscode": {
   "interpreter": {
    "hash": "5b87313f742a69090714eb036ac2acb41caadc70cc9cff46de134f73825872fe"
   }
  }
 },
 "nbformat": 4,
 "nbformat_minor": 2
}
